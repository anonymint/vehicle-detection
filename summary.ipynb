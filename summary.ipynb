{
 "cells": [
  {
   "cell_type": "markdown",
   "metadata": {},
   "source": [
    "# Vehicle Detection\n",
    "\n",
    "This project will demonstrate how I setup pipeline to detect the vehicle so I will start from a sample images and along the way I will apply that to a series of images or video. \n",
    "\n",
    "At the end you will see the video with vehicle detection.\n",
    "\n",
    "Let walk through the steps\n",
    "\n",
    "* Choose color features\n",
    "* Choose gradient features based with HOG\n",
    "* Train classifiers to detect cars and non-cars\n",
    "* Implement sliding windows to scan the images\n",
    "* Apply pipeline to video streams and tracking to follow the vehicles"
   ]
  },
  {
   "cell_type": "code",
   "execution_count": null,
   "metadata": {},
   "outputs": [],
   "source": []
  }
 ],
 "metadata": {
  "kernelspec": {
   "display_name": "Python 3",
   "language": "python",
   "name": "python3"
  },
  "language_info": {
   "codemirror_mode": {
    "name": "ipython",
    "version": 3
   },
   "file_extension": ".py",
   "mimetype": "text/x-python",
   "name": "python",
   "nbconvert_exporter": "python",
   "pygments_lexer": "ipython3",
   "version": "3.5.2"
  },
  "widgets": {
   "state": {},
   "version": "1.1.2"
  }
 },
 "nbformat": 4,
 "nbformat_minor": 2
}
